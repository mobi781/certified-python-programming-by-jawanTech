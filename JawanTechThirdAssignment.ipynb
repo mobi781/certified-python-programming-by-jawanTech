{
 "cells": [
  {
   "cell_type": "markdown",
   "id": "a7877743",
   "metadata": {},
   "source": [
    "1. Write a Python program to print the following string in a specific format (see the\n",
    "output).\n",
    "\n",
    "Twinkle, twinkle, little star,\n",
    "\n",
    "        How I wonder what you are!\n",
    "\n",
    "                Up above the world so high,\n",
    "                Like a diamond in the sky.\n",
    "\n",
    "Twinkle, twinkle, little star,\n",
    "\n",
    "        How I wonder what you are "
   ]
  },
  {
   "cell_type": "code",
   "execution_count": 1,
   "id": "ee3b4a5f",
   "metadata": {},
   "outputs": [
    {
     "name": "stdout",
     "output_type": "stream",
     "text": [
      "Twinkle, twinkle, little star,\n",
      "        How I wonder what you are! \n",
      "                Up above the world so high,\n",
      "                Like a diamond in the sky.\n",
      "Twinkle, twinkle, little star,\n",
      "        How I wonder what you are \n"
     ]
    }
   ],
   "source": [
    "a = \"\"\"Twinkle, twinkle, little star,\n",
    "        How I wonder what you are! \n",
    "                Up above the world so high,\n",
    "                Like a diamond in the sky.\n",
    "Twinkle, twinkle, little star,\n",
    "        How I wonder what you are \"\"\"\n",
    "print(a)"
   ]
  },
  {
   "cell_type": "markdown",
   "id": "3e92be79",
   "metadata": {},
   "source": [
    "2. Write a Python program to get the Python version you are using "
   ]
  },
  {
   "cell_type": "code",
   "execution_count": 2,
   "id": "a81236d9",
   "metadata": {},
   "outputs": [
    {
     "name": "stdout",
     "output_type": "stream",
     "text": [
      "3.8.8\n"
     ]
    }
   ],
   "source": [
    "from platform import python_version\n",
    "\n",
    "print(python_version())"
   ]
  },
  {
   "cell_type": "code",
   "execution_count": null,
   "id": "2b61b94e",
   "metadata": {},
   "outputs": [],
   "source": [
    "\n"
   ]
  },
  {
   "cell_type": "markdown",
   "id": "5c00d242",
   "metadata": {},
   "source": [
    "3. Write a Python program to display the current date and time. "
   ]
  },
  {
   "cell_type": "code",
   "execution_count": 3,
   "id": "925abe7a",
   "metadata": {},
   "outputs": [
    {
     "name": "stdout",
     "output_type": "stream",
     "text": [
      "Current date and time : \n",
      "23-10-2021 21:04:25\n"
     ]
    }
   ],
   "source": [
    "import datetime\n",
    "now = datetime.datetime.now()\n",
    "print (\"Current date and time : \")\n",
    "print (now.strftime(\"%d-%m-%Y %H:%M:%S\"))"
   ]
  },
  {
   "cell_type": "code",
   "execution_count": null,
   "id": "61994325",
   "metadata": {},
   "outputs": [],
   "source": []
  },
  {
   "cell_type": "markdown",
   "id": "5e22905d",
   "metadata": {},
   "source": [
    "4. Write a Python program which accepts the radius of a circle from the user and compute\n",
    "the area. "
   ]
  },
  {
   "cell_type": "code",
   "execution_count": 4,
   "id": "9980f23c",
   "metadata": {},
   "outputs": [
    {
     "name": "stdout",
     "output_type": "stream",
     "text": [
      "please enter the radius of circle in meter: 24\n",
      "Area of a Circle is: 1808.6399999999999 meters\n"
     ]
    }
   ],
   "source": [
    "userRad=int(input(\"please enter the radius of circle in meter: \"))\n",
    "areaOfCircle=3.14*userRad*userRad\n",
    "print(f\"Area of a Circle is: {areaOfCircle} meters\")"
   ]
  },
  {
   "cell_type": "code",
   "execution_count": null,
   "id": "a632e773",
   "metadata": {},
   "outputs": [],
   "source": []
  },
  {
   "cell_type": "markdown",
   "id": "75f965ca",
   "metadata": {},
   "source": [
    "5. Write a Python program which accepts the user's first and last name and print them in\n",
    "reverse order with a space between them. "
   ]
  },
  {
   "cell_type": "code",
   "execution_count": 5,
   "id": "81c37c7e",
   "metadata": {},
   "outputs": [
    {
     "name": "stdout",
     "output_type": "stream",
     "text": [
      "Please Enter your first name: ali\n",
      "Please Enter your last name: abbas\n",
      " The Reverse Order of given name is abbas ali! \n",
      " The Reversal of given name is sabba ila! \n"
     ]
    }
   ],
   "source": [
    "firstName=str(input(\"Please Enter your first name: \"))\n",
    "lastName=str(input(\"Please Enter your last name: \"))\n",
    "print(f\" The Reverse Order of given name is {lastName} {firstName}! \")\n",
    "print(f\" The Reversal of given name is {lastName[::-1]} {firstName[::-1]}! \")\n"
   ]
  },
  {
   "cell_type": "code",
   "execution_count": null,
   "id": "53c99b7d",
   "metadata": {},
   "outputs": [],
   "source": []
  },
  {
   "cell_type": "markdown",
   "id": "7ee5aebc",
   "metadata": {},
   "source": [
    "6. Write a python program which takes two inputs from user and print them addition "
   ]
  },
  {
   "cell_type": "code",
   "execution_count": 6,
   "id": "f59390ea",
   "metadata": {},
   "outputs": [
    {
     "name": "stdout",
     "output_type": "stream",
     "text": [
      "Please Enter 1st number to be Added: 25\n",
      "Please Enter 2nd number to be Added: 222\n",
      "Final Result of Addition is :247\n"
     ]
    }
   ],
   "source": [
    "num1 = int(input(\"Please Enter 1st number to be Added: \"))\n",
    "num2 = int(input(\"Please Enter 2nd number to be Added: \"))\n",
    "print(f\"Final Result of Addition is :{num1+num2}\")"
   ]
  },
  {
   "cell_type": "code",
   "execution_count": null,
   "id": "83ec768a",
   "metadata": {},
   "outputs": [],
   "source": []
  },
  {
   "cell_type": "markdown",
   "id": "6d6e621d",
   "metadata": {},
   "source": [
    "7. Write a program which takes 5 inputs from user for different subject’s marks, total it\n",
    "and generate mark sheet using grades ?"
   ]
  },
  {
   "cell_type": "code",
   "execution_count": 7,
   "id": "5c8857e0",
   "metadata": {},
   "outputs": [
    {
     "name": "stdout",
     "output_type": "stream",
     "text": [
      "please Enter the English Subject's Number what you obtain: 65\n",
      "please Enter the Urdu Subject's Number what you obtain: 66\n",
      "please Enter the Math Subject's Number what you obtain: 77\n",
      "please Enter the Physics Subject's Number what you obtain: 88\n",
      "please Enter the Chemistry Subject's Number what you obtain: 99\n",
      "Subject   Marks  TMarks  %  Grade\n",
      "english - 65 - 100 - 65.0 - B-\n",
      "urdu - 66 - 100 - 66.0 - B-\n",
      "math - 77 - 100 - 77.0 - B+\n",
      "physics - 88 - 100 - 88.0 - A-\n",
      "chemistry - 99 - 100 - 99.0 - A+\n",
      "You have secure 395 of 500 and your percentage is 79.0 so your grade is B+\n"
     ]
    }
   ],
   "source": [
    "english=int(input(\"please Enter the English Subject's Number what you obtain: \"))\n",
    "urdu=int(input(\"please Enter the Urdu Subject's Number what you obtain: \"))\n",
    "math=int(input(\"please Enter the Math Subject's Number what you obtain: \"))\n",
    "physics=int(input(\"please Enter the Physics Subject's Number what you obtain: \"))\n",
    "chemistry=int(input(\"please Enter the Chemistry Subject's Number what you obtain: \"))\n",
    "sTMarks=100\n",
    "tMarks=500\n",
    "grades=[]\n",
    "sNames=[\"english\", \"urdu\", \"math\", \"physics\",\"chemistry\"]\n",
    "lstOfSMarks=[english, urdu, math, physics,chemistry]\n",
    "sumOfMarks=sum(lstOfSMarks);\n",
    "lstOfPMarks=[((english/sTMarks)*100),((urdu/sTMarks)*100),((math/sTMarks)*100),((physics/sTMarks)*100),((chemistry/sTMarks)*100)]\n",
    "\n",
    "    \n",
    "def mGrades(percentage):\n",
    "    if percentage>=90:\n",
    "        return \"A+\"\n",
    "    elif percentage>=80:\n",
    "        return \"A-\"\n",
    "    elif percentage>=70:\n",
    "        return \"B+\"\n",
    "    elif percentage>= 60:\n",
    "        return \"B-\"\n",
    "    elif percentage>= 50:\n",
    "        return \"C\"\n",
    "    elif percentage>=40:\n",
    "        return \"D\"\n",
    "    elif percentage>=30:\n",
    "        return \"E\"\n",
    "    else:\n",
    "        return \"F\"\n",
    "    \n",
    "for index in lstOfPMarks:\n",
    "    grades.append(mGrades(index))\n",
    "    \n",
    "def printMarksheet(sNames,lstOfMarks,lstOfPMarks,grades):\n",
    "    print( \"Subject   Marks  TMarks  %  Grade\")\n",
    "    for i in range(0,len(sNames)):\n",
    "        print(f\"{sNames[i]} - {lstOfMarks[i]} - 100 - {lstOfPMarks[i]} - {grades[i]}\");\n",
    "\n",
    "        \n",
    "printMarksheet(sNames,lstOfSMarks,lstOfPMarks,grades);\n",
    "print(f\"You have secure {sumOfMarks} of {tMarks} and your percentage is {((sumOfMarks/tMarks)*100)} so your grade is {mGrades((sumOfMarks/tMarks)*100)}\")\n",
    "        \n",
    "    \n",
    "\n"
   ]
  },
  {
   "cell_type": "code",
   "execution_count": null,
   "id": "89f5ce00",
   "metadata": {},
   "outputs": [],
   "source": []
  },
  {
   "cell_type": "markdown",
   "id": "a4590a1c",
   "metadata": {},
   "source": [
    "8. Write a program which take input from user and identify that the given number is even\n",
    "or odd?"
   ]
  },
  {
   "cell_type": "code",
   "execution_count": 8,
   "id": "1ae18be8",
   "metadata": {},
   "outputs": [
    {
     "name": "stdout",
     "output_type": "stream",
     "text": [
      "Please Enter an integer to check for even or odd: 69585\n",
      "The 69585 is odd!\n"
     ]
    }
   ],
   "source": [
    "numToBeCheck= int(input(\"Please Enter an integer to check for even or odd: \"))\n",
    "if(numToBeCheck%2==0):\n",
    "    print(f\"The Number: {numToBeCheck} is even!\")\n",
    "else:print(f\"The Number:  {numToBeCheck} is odd!\")\n"
   ]
  },
  {
   "cell_type": "code",
   "execution_count": null,
   "id": "8fe9ff91",
   "metadata": {},
   "outputs": [],
   "source": []
  },
  {
   "cell_type": "markdown",
   "id": "0a67b63c",
   "metadata": {},
   "source": [
    "9. Write a program which print the length of the list? "
   ]
  },
  {
   "cell_type": "code",
   "execution_count": 9,
   "id": "806df294",
   "metadata": {},
   "outputs": [
    {
     "name": "stdout",
     "output_type": "stream",
     "text": [
      "11\n"
     ]
    }
   ],
   "source": [
    "lst = [1, 1, 2, 3, 5, 8, 13, 21, 34, 55, 89] \n",
    "print(len(lst))"
   ]
  },
  {
   "cell_type": "code",
   "execution_count": null,
   "id": "2db87547",
   "metadata": {},
   "outputs": [],
   "source": []
  },
  {
   "cell_type": "markdown",
   "id": "57be0410",
   "metadata": {},
   "source": [
    "10.Write a Python program to sum all the numeric items in a list?"
   ]
  },
  {
   "cell_type": "code",
   "execution_count": 10,
   "id": "2e546f5c",
   "metadata": {},
   "outputs": [
    {
     "data": {
      "text/plain": [
       "232"
      ]
     },
     "execution_count": 10,
     "metadata": {},
     "output_type": "execute_result"
    }
   ],
   "source": [
    "lstToBeSum = [1, 1, 2, 3, 5, 8, 13, 21, 34, 55, 89]\n",
    "sum(lstToBeSum)"
   ]
  },
  {
   "cell_type": "code",
   "execution_count": null,
   "id": "005bfbf6",
   "metadata": {},
   "outputs": [],
   "source": []
  },
  {
   "cell_type": "markdown",
   "id": "fe0daa8d",
   "metadata": {},
   "source": [
    "11.Write a Python program to get the largest number from a numeric list. "
   ]
  },
  {
   "cell_type": "code",
   "execution_count": 11,
   "id": "4e863c7d",
   "metadata": {},
   "outputs": [
    {
     "name": "stdout",
     "output_type": "stream",
     "text": [
      "largest Number in given list is: 334\n"
     ]
    }
   ],
   "source": [
    "lstToCheck = [1, 1, 2, 3, 5, 8, 13, 21, 34, 55, 89,55,23,222,334,66,232,2]\n",
    "maxValue=lstToCheck[0]\n",
    "for i in range(0,len(lstToCheck)):\n",
    "    if (lstToCheck[i]>maxValue):\n",
    "        maxValue=lstToCheck[i];\n",
    "print(f\"largest Number in given list is: {maxValue}\");"
   ]
  },
  {
   "cell_type": "code",
   "execution_count": null,
   "id": "074939ae",
   "metadata": {},
   "outputs": [],
   "source": []
  },
  {
   "cell_type": "markdown",
   "id": "36703d70",
   "metadata": {},
   "source": [
    "12. Take a list, say for example this one:\n",
    "\n",
    "a = [1, 1, 2, 3, 5, 8, 13, 21, 34, 55, 89]\n",
    " Write a program that prints out all the elements of the list that are less than 5. "
   ]
  },
  {
   "cell_type": "code",
   "execution_count": 12,
   "id": "4c29358b",
   "metadata": {},
   "outputs": [
    {
     "data": {
      "text/plain": [
       "[1, 1, 2, 3, 4, 0, 2, 3, 4, 2, 2]"
      ]
     },
     "execution_count": 12,
     "metadata": {},
     "output_type": "execute_result"
    }
   ],
   "source": [
    "lstOfNumeric= [1, 1, 2, 3,4,0,2,3,4, 5, 8, 13, 21, 34, 55, 89,55,2,2]\n",
    "updatedList=[x for x in lstOfNumeric if x<5]\n",
    "updatedList\n",
    "\n"
   ]
  },
  {
   "cell_type": "code",
   "execution_count": null,
   "id": "b2592203",
   "metadata": {},
   "outputs": [],
   "source": []
  }
 ],
 "metadata": {
  "kernelspec": {
   "display_name": "Python 3",
   "language": "python",
   "name": "python3"
  },
  "language_info": {
   "codemirror_mode": {
    "name": "ipython",
    "version": 3
   },
   "file_extension": ".py",
   "mimetype": "text/x-python",
   "name": "python",
   "nbconvert_exporter": "python",
   "pygments_lexer": "ipython3",
   "version": "3.8.8"
  }
 },
 "nbformat": 4,
 "nbformat_minor": 5
}
